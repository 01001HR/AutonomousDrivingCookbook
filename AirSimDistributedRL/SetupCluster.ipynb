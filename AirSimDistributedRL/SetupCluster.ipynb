{
 "cells": [
  {
   "cell_type": "markdown",
   "metadata": {},
   "source": [
    "# Step 0 - Set up the Cluster\n",
    "\n",
    "In this phase, we will provision and configure the cluster that will be used in the experiment. Before setting up the cluster, we will also set up an Azure File Share to host the executable and the script files. Begin by importing some prerequisite libraries. "
   ]
  },
  {
   "cell_type": "code",
   "execution_count": 1,
   "metadata": {
    "collapsed": true
   },
   "outputs": [],
   "source": [
    "#Standard python libraries\n",
    "import json\n",
    "import os\n",
    "import re\n",
    "import datetime\n",
    "import time\n",
    "\n",
    "from IPython.display import clear_output\n",
    "\n",
    "#Azure file storage. To install, run 'pip install azure-storage-file'\n",
    "from azure.storage.file import FileService\n",
    "from azure.storage.file import ContentSettings\n",
    "\n",
    "#Azure blob. To install, run 'pip install azure-storage-blob'\n",
    "from azure.storage.blob import BlockBlobService\n",
    "from azure.storage.blob import PublicAccess\n",
    "\n",
    "#Azure batch. To install, run 'pip install cryptography azure-batch azure-storage'\n",
    "import azure.storage.blob as azureblob\n",
    "import azure.batch.models as batchmodels\n",
    "import azure.batch.batch_auth as batchauth\n",
    "import azure.batch as batch\n",
    "\n",
    "with open('notebook_config.json', 'r') as f:\n",
    "    NOTEBOOK_CONFIG = json.loads(f.read()) "
   ]
  },
  {
   "cell_type": "markdown",
   "metadata": {},
   "source": [
    "First, we will generate some prerequisite files. These files are used during the setup process to configure the machine. They require information unique to your cluster (such as account keys), so we will need to generate them from a template. The three files are:\n",
    "\n",
    "* **mount.bat**: This batch file mounts an azure file share to a machine. It will mount the specified file share to the Z:\\\\ directory\n",
    "* **run_airsim_on_user_login.xml**: This XML defines a scheduled task that will restart the AirSim simulator when a user logs into an agent node. This is necessary because Azure Batch starts the executable in session 0, which means that the simulator will be accessible via API, but not visible on the screen. By restarting it on login, we can visualize the training process.\n",
    "* **setup_machine.py**: This script installs the prerequisite python libraries and configures the machine to properly run AirSim. "
   ]
  },
  {
   "cell_type": "code",
   "execution_count": 6,
   "metadata": {
    "collapsed": true
   },
   "outputs": [],
   "source": [
    "#Generate mount.bat\n",
    "with open('Template\\\\mount_bat.template', 'r') as f:\n",
    "    mount_bat_cmd = f.read()\n",
    "    \n",
    "mount_bat_cmd = mount_bat_cmd\\\n",
    "                    .replace('{storage_account_name}', NOTEBOOK_CONFIG['storage_account_name'])\\\n",
    "                    .replace('{file_share_name}', NOTEBOOK_CONFIG['file_share_name'])\\\n",
    "                    .replace('{storage_account_key}', NOTEBOOK_CONFIG['storage_account_key'])\n",
    "\n",
    "with open('Blob\\\\mount.bat', 'w') as f:\n",
    "    f.write(mount_bat_cmd)\n",
    "    \n",
    "#Generate setup_machine.py\n",
    "with open('Template\\\\setup_machine_py.template', 'r') as f:\n",
    "    setup_machine_py = f.read()\n",
    "\n",
    "setup_machine_py = setup_machine_py\\\n",
    "                    .replace('{storage_account_name}', NOTEBOOK_CONFIG['storage_account_name'])\\\n",
    "                    .replace('{file_share_name}', NOTEBOOK_CONFIG['file_share_name'])\\\n",
    "                    .replace('{storage_account_key}', NOTEBOOK_CONFIG['storage_account_key'])\\\n",
    "                    .replace('{batch_job_user_name}', NOTEBOOK_CONFIG['batch_job_user_name'])\\\n",
    "                    .replace('{batch_job_user_password}', NOTEBOOK_CONFIG['batch_job_user_password'])\n",
    "\n",
    "with open('Blob\\\\setup_machine.py', 'w') as f:\n",
    "    f.write(setup_machine_py)\n",
    "    \n",
    "#Generate run_airsim_on_user_login.xml\n",
    "with open('Template\\\\run_airsim_on_user_login_xml.template', 'r', encoding='utf-16') as f:\n",
    "    startup_task_xml = f.read()\n",
    "    \n",
    "startup_task_xml = startup_task_xml\\\n",
    "                    .replace('{batch_job_user_name}', NOTEBOOK_CONFIG['batch_job_user_name'])\n",
    "\n",
    "with open('Share\\\\scripts_downpour\\\\run_airsim_on_user_login.xml', 'w', encoding='utf-16') as f:\n",
    "    f.write(startup_task_xml)    "
   ]
  },
  {
   "cell_type": "markdown",
   "metadata": {},
   "source": [
    "Now that we have all of the prerequisite files generated, the next step is to create the Azure File Share. We create the file share and upload all of the files under the /Share directory of the downloaded data files. Inside this directory, there are two folders:\n",
    "\n",
    "* **AirsimOpenGL**: This folder contains the AirSim executable, as well as some helper scripts used to launch the exe.\n",
    "* **scripts_downpour**: This folder contains the actual scripts that will be executed during the batch job. For more information about these scripts, see Step 1 - Explore the Algorithm."
   ]
  },
  {
   "cell_type": "code",
   "execution_count": 25,
   "metadata": {},
   "outputs": [
    {
     "data": {
      "text/plain": [
       "True"
      ]
     },
     "execution_count": 25,
     "metadata": {},
     "output_type": "execute_result"
    }
   ],
   "source": [
    "file_service = FileService(account_name = NOTEBOOK_CONFIG['storage_account_name'], account_key=NOTEBOOK_CONFIG['storage_account_key'])\n",
    "file_service.create_share(NOTEBOOK_CONFIG['file_share_name'], fail_on_exist=False)"
   ]
  },
  {
   "cell_type": "markdown",
   "metadata": {},
   "source": [
    "Upload all files to share."
   ]
  },
  {
   "cell_type": "code",
   "execution_count": 26,
   "metadata": {
    "scrolled": true
   },
   "outputs": [
    {
     "name": "stdout",
     "output_type": "stream",
     "text": [
      "Uploading Share\\data\\pretrain_model_weights.h5 to data...\n"
     ]
    },
    {
     "name": "stderr",
     "output_type": "stream",
     "text": [
      "Client-Request-ID=82f9c662-1511-11e8-a967-40167e77d4b0 Retry policy did not allow for a retry: Server-Timestamp=Mon, 19 Feb 2018 01:09:19 GMT, Server-Request-ID=aaf1c07d-001a-007a-451e-a9509f000000, HTTP status code=409, Exception=The specified resource already exists.<?xml version=\"1.0\" encoding=\"utf-8\"?><Error><Code>ResourceAlreadyExists</Code><Message>The specified resource already exists.RequestId:aaf1c07d-001a-007a-451e-a9509f000000Time:2018-02-19T01:09:19.3796423Z</Message></Error>.\n"
     ]
    },
    {
     "name": "stdout",
     "output_type": "stream",
     "text": [
      "Uploading Share\\data\\reward_points.txt to data...\n"
     ]
    },
    {
     "name": "stderr",
     "output_type": "stream",
     "text": [
      "Client-Request-ID=8322d2ca-1511-11e8-a160-40167e77d4b0 Retry policy did not allow for a retry: Server-Timestamp=Mon, 19 Feb 2018 01:09:19 GMT, Server-Request-ID=aaf1c080-001a-007a-481e-a9509f000000, HTTP status code=409, Exception=The specified resource already exists.<?xml version=\"1.0\" encoding=\"utf-8\"?><Error><Code>ResourceAlreadyExists</Code><Message>The specified resource already exists.RequestId:aaf1c080-001a-007a-481e-a9509f000000Time:2018-02-19T01:09:19.6488217Z</Message></Error>.\n"
     ]
    },
    {
     "name": "stdout",
     "output_type": "stream",
     "text": [
      "Uploading Share\\data\\road_lines.txt to data...\n",
      "Uploading Share\\scripts_downpour\\manage.py to scripts_downpour...\n"
     ]
    },
    {
     "name": "stderr",
     "output_type": "stream",
     "text": [
      "Client-Request-ID=837512ae-1511-11e8-bc59-40167e77d4b0 Retry policy did not allow for a retry: Server-Timestamp=Mon, 19 Feb 2018 01:09:20 GMT, Server-Request-ID=aaf1c088-001a-007a-4e1e-a9509f000000, HTTP status code=409, Exception=The specified resource already exists.<?xml version=\"1.0\" encoding=\"utf-8\"?><Error><Code>ResourceAlreadyExists</Code><Message>The specified resource already exists.RequestId:aaf1c088-001a-007a-4e1e-a9509f000000Time:2018-02-19T01:09:20.1901826Z</Message></Error>.\n"
     ]
    },
    {
     "name": "stdout",
     "output_type": "stream",
     "text": [
      "Uploading Share\\scripts_downpour\\run_airsim_on_user_login.xml to scripts_downpour...\n"
     ]
    },
    {
     "name": "stderr",
     "output_type": "stream",
     "text": [
      "Client-Request-ID=839e6d38-1511-11e8-af05-40167e77d4b0 Retry policy did not allow for a retry: Server-Timestamp=Mon, 19 Feb 2018 01:09:20 GMT, Server-Request-ID=aaf1c08b-001a-007a-511e-a9509f000000, HTTP status code=409, Exception=The specified resource already exists.<?xml version=\"1.0\" encoding=\"utf-8\"?><Error><Code>ResourceAlreadyExists</Code><Message>The specified resource already exists.RequestId:aaf1c08b-001a-007a-511e-a9509f000000Time:2018-02-19T01:09:20.4593616Z</Message></Error>.\n"
     ]
    },
    {
     "name": "stdout",
     "output_type": "stream",
     "text": [
      "Uploading Share\\scripts_downpour\\app\\airsim_client.py to scripts_downpour\\app...\n"
     ]
    },
    {
     "name": "stderr",
     "output_type": "stream",
     "text": [
      "Client-Request-ID=83e206e6-1511-11e8-ab95-40167e77d4b0 Retry policy did not allow for a retry: Server-Timestamp=Mon, 19 Feb 2018 01:09:20 GMT, Server-Request-ID=aaf1c08f-001a-007a-551e-a9509f000000, HTTP status code=409, Exception=The specified resource already exists.<?xml version=\"1.0\" encoding=\"utf-8\"?><Error><Code>ResourceAlreadyExists</Code><Message>The specified resource already exists.RequestId:aaf1c08f-001a-007a-551e-a9509f000000Time:2018-02-19T01:09:20.9096623Z</Message></Error>.\n",
      "Client-Request-ID=83f0860c-1511-11e8-b9a2-40167e77d4b0 Retry policy did not allow for a retry: Server-Timestamp=Mon, 19 Feb 2018 01:09:20 GMT, Server-Request-ID=aaf1c090-001a-007a-561e-a9509f000000, HTTP status code=409, Exception=The specified resource already exists.<?xml version=\"1.0\" encoding=\"utf-8\"?><Error><Code>ResourceAlreadyExists</Code><Message>The specified resource already exists.RequestId:aaf1c090-001a-007a-561e-a9509f000000Time:2018-02-19T01:09:20.9987216Z</Message></Error>.\n"
     ]
    },
    {
     "name": "stdout",
     "output_type": "stream",
     "text": [
      "Uploading Share\\scripts_downpour\\app\\distributed_agent.py to scripts_downpour\\app...\n"
     ]
    },
    {
     "name": "stderr",
     "output_type": "stream",
     "text": [
      "Client-Request-ID=84270028-1511-11e8-a967-40167e77d4b0 Retry policy did not allow for a retry: Server-Timestamp=Mon, 19 Feb 2018 01:09:21 GMT, Server-Request-ID=aaf1c094-001a-007a-5a1e-a9509f000000, HTTP status code=409, Exception=The specified resource already exists.<?xml version=\"1.0\" encoding=\"utf-8\"?><Error><Code>ResourceAlreadyExists</Code><Message>The specified resource already exists.RequestId:aaf1c094-001a-007a-5a1e-a9509f000000Time:2018-02-19T01:09:21.3539585Z</Message></Error>.\n",
      "Client-Request-ID=84346ddc-1511-11e8-a80c-40167e77d4b0 Retry policy did not allow for a retry: Server-Timestamp=Mon, 19 Feb 2018 01:09:21 GMT, Server-Request-ID=aaf1c095-001a-007a-5b1e-a9509f000000, HTTP status code=409, Exception=The specified resource already exists.<?xml version=\"1.0\" encoding=\"utf-8\"?><Error><Code>ResourceAlreadyExists</Code><Message>The specified resource already exists.RequestId:aaf1c095-001a-007a-5b1e-a9509f000000Time:2018-02-19T01:09:21.4420167Z</Message></Error>.\n"
     ]
    },
    {
     "name": "stdout",
     "output_type": "stream",
     "text": [
      "Uploading Share\\scripts_downpour\\app\\rl_model.py to scripts_downpour\\app...\n"
     ]
    },
    {
     "name": "stderr",
     "output_type": "stream",
     "text": [
      "Client-Request-ID=845ed9da-1511-11e8-8d1b-40167e77d4b0 Retry policy did not allow for a retry: Server-Timestamp=Mon, 19 Feb 2018 01:09:21 GMT, Server-Request-ID=aaf1c098-001a-007a-5e1e-a9509f000000, HTTP status code=409, Exception=The specified resource already exists.<?xml version=\"1.0\" encoding=\"utf-8\"?><Error><Code>ResourceAlreadyExists</Code><Message>The specified resource already exists.RequestId:aaf1c098-001a-007a-5e1e-a9509f000000Time:2018-02-19T01:09:21.7192015Z</Message></Error>.\n",
      "Client-Request-ID=846c207a-1511-11e8-9abe-40167e77d4b0 Retry policy did not allow for a retry: Server-Timestamp=Mon, 19 Feb 2018 01:09:21 GMT, Server-Request-ID=aaf1c099-001a-007a-5f1e-a9509f000000, HTTP status code=409, Exception=The specified resource already exists.<?xml version=\"1.0\" encoding=\"utf-8\"?><Error><Code>ResourceAlreadyExists</Code><Message>The specified resource already exists.RequestId:aaf1c099-001a-007a-5f1e-a9509f000000Time:2018-02-19T01:09:21.8072602Z</Message></Error>.\n"
     ]
    },
    {
     "name": "stdout",
     "output_type": "stream",
     "text": [
      "Uploading Share\\scripts_downpour\\app\\views.py to scripts_downpour\\app...\n"
     ]
    },
    {
     "name": "stderr",
     "output_type": "stream",
     "text": [
      "Client-Request-ID=84963e5a-1511-11e8-ac0a-40167e77d4b0 Retry policy did not allow for a retry: Server-Timestamp=Mon, 19 Feb 2018 01:09:21 GMT, Server-Request-ID=aaf1c09d-001a-007a-631e-a9509f000000, HTTP status code=409, Exception=The specified resource already exists.<?xml version=\"1.0\" encoding=\"utf-8\"?><Error><Code>ResourceAlreadyExists</Code><Message>The specified resource already exists.RequestId:aaf1c09d-001a-007a-631e-a9509f000000Time:2018-02-19T01:09:22.0834444Z</Message></Error>.\n",
      "Client-Request-ID=84a3fa2e-1511-11e8-b149-40167e77d4b0 Retry policy did not allow for a retry: Server-Timestamp=Mon, 19 Feb 2018 01:09:21 GMT, Server-Request-ID=aaf1c09e-001a-007a-641e-a9509f000000, HTTP status code=409, Exception=The specified resource already exists.<?xml version=\"1.0\" encoding=\"utf-8\"?><Error><Code>ResourceAlreadyExists</Code><Message>The specified resource already exists.RequestId:aaf1c09e-001a-007a-641e-a9509f000000Time:2018-02-19T01:09:22.1735048Z</Message></Error>.\n"
     ]
    },
    {
     "name": "stdout",
     "output_type": "stream",
     "text": [
      "Uploading Share\\scripts_downpour\\app\\__pycache__\\airsim_client.cpython-36.pyc to scripts_downpour\\app\\__pycache__...\n"
     ]
    },
    {
     "name": "stderr",
     "output_type": "stream",
     "text": [
      "Client-Request-ID=84e8090c-1511-11e8-9b0f-40167e77d4b0 Retry policy did not allow for a retry: Server-Timestamp=Mon, 19 Feb 2018 01:09:22 GMT, Server-Request-ID=aaf1c0a3-001a-007a-681e-a9509f000000, HTTP status code=409, Exception=The specified resource already exists.<?xml version=\"1.0\" encoding=\"utf-8\"?><Error><Code>ResourceAlreadyExists</Code><Message>The specified resource already exists.RequestId:aaf1c0a3-001a-007a-681e-a9509f000000Time:2018-02-19T01:09:22.6188026Z</Message></Error>.\n",
      "Client-Request-ID=84f54fae-1511-11e8-a6d2-40167e77d4b0 Retry policy did not allow for a retry: Server-Timestamp=Mon, 19 Feb 2018 01:09:22 GMT, Server-Request-ID=aaf1c0a4-001a-007a-691e-a9509f000000, HTTP status code=409, Exception=The specified resource already exists.<?xml version=\"1.0\" encoding=\"utf-8\"?><Error><Code>ResourceAlreadyExists</Code><Message>The specified resource already exists.RequestId:aaf1c0a4-001a-007a-691e-a9509f000000Time:2018-02-19T01:09:22.7058593Z</Message></Error>.\n"
     ]
    },
    {
     "name": "stdout",
     "output_type": "stream",
     "text": [
      "Uploading Share\\scripts_downpour\\app\\__pycache__\\distributed_agent.cpython-36.pyc to scripts_downpour\\app\\__pycache__...\n"
     ]
    },
    {
     "name": "stderr",
     "output_type": "stream",
     "text": [
      "Client-Request-ID=8502bd62-1511-11e8-9f78-40167e77d4b0 Retry policy did not allow for a retry: Server-Timestamp=Mon, 19 Feb 2018 01:09:22 GMT, Server-Request-ID=aaf1c0a5-001a-007a-6a1e-a9509f000000, HTTP status code=409, Exception=The specified resource already exists.<?xml version=\"1.0\" encoding=\"utf-8\"?><Error><Code>ResourceAlreadyExists</Code><Message>The specified resource already exists.RequestId:aaf1c0a5-001a-007a-6a1e-a9509f000000Time:2018-02-19T01:09:22.7949187Z</Message></Error>.\n",
      "Client-Request-ID=852d9e92-1511-11e8-854b-40167e77d4b0 Retry policy did not allow for a retry: Server-Timestamp=Mon, 19 Feb 2018 01:09:22 GMT, Server-Request-ID=aaf1c0a8-001a-007a-6d1e-a9509f000000, HTTP status code=409, Exception=The specified resource already exists.<?xml version=\"1.0\" encoding=\"utf-8\"?><Error><Code>ResourceAlreadyExists</Code><Message>The specified resource already exists.RequestId:aaf1c0a8-001a-007a-6d1e-a9509f000000Time:2018-02-19T01:09:23.0751059Z</Message></Error>.\n",
      "Client-Request-ID=853b0c42-1511-11e8-a455-40167e77d4b0 Retry policy did not allow for a retry: Server-Timestamp=Mon, 19 Feb 2018 01:09:22 GMT, Server-Request-ID=aaf1c0a9-001a-007a-6e1e-a9509f000000, HTTP status code=409, Exception=The specified resource already exists.<?xml version=\"1.0\" encoding=\"utf-8\"?><Error><Code>ResourceAlreadyExists</Code><Message>The specified resource already exists.RequestId:aaf1c0a9-001a-007a-6e1e-a9509f000000Time:2018-02-19T01:09:23.1631642Z</Message></Error>.\n"
     ]
    },
    {
     "name": "stdout",
     "output_type": "stream",
     "text": [
      "Uploading Share\\scripts_downpour\\app\\__pycache__\\rl_model.cpython-36.pyc to scripts_downpour\\app\\__pycache__...\n"
     ]
    },
    {
     "name": "stderr",
     "output_type": "stream",
     "text": [
      "Client-Request-ID=854879f6-1511-11e8-aaef-40167e77d4b0 Retry policy did not allow for a retry: Server-Timestamp=Mon, 19 Feb 2018 01:09:23 GMT, Server-Request-ID=aaf1c0aa-001a-007a-6f1e-a9509f000000, HTTP status code=409, Exception=The specified resource already exists.<?xml version=\"1.0\" encoding=\"utf-8\"?><Error><Code>ResourceAlreadyExists</Code><Message>The specified resource already exists.RequestId:aaf1c0aa-001a-007a-6f1e-a9509f000000Time:2018-02-19T01:09:23.2532251Z</Message></Error>.\n",
      "Client-Request-ID=8573d058-1511-11e8-9a25-40167e77d4b0 Retry policy did not allow for a retry: Server-Timestamp=Mon, 19 Feb 2018 01:09:23 GMT, Server-Request-ID=aaf1c0ad-001a-007a-721e-a9509f000000, HTTP status code=409, Exception=The specified resource already exists.<?xml version=\"1.0\" encoding=\"utf-8\"?><Error><Code>ResourceAlreadyExists</Code><Message>The specified resource already exists.RequestId:aaf1c0ad-001a-007a-721e-a9509f000000Time:2018-02-19T01:09:23.5354123Z</Message></Error>.\n",
      "Client-Request-ID=85813e0a-1511-11e8-82b6-40167e77d4b0 Retry policy did not allow for a retry: Server-Timestamp=Mon, 19 Feb 2018 01:09:23 GMT, Server-Request-ID=aaf1c0ae-001a-007a-731e-a9509f000000, HTTP status code=409, Exception=The specified resource already exists.<?xml version=\"1.0\" encoding=\"utf-8\"?><Error><Code>ResourceAlreadyExists</Code><Message>The specified resource already exists.RequestId:aaf1c0ae-001a-007a-731e-a9509f000000Time:2018-02-19T01:09:23.6254724Z</Message></Error>.\n"
     ]
    },
    {
     "name": "stdout",
     "output_type": "stream",
     "text": [
      "Uploading Share\\scripts_downpour\\app\\__pycache__\\views.cpython-36.pyc to scripts_downpour\\app\\__pycache__...\n"
     ]
    },
    {
     "name": "stderr",
     "output_type": "stream",
     "text": [
      "Client-Request-ID=858ef9de-1511-11e8-8b3d-40167e77d4b0 Retry policy did not allow for a retry: Server-Timestamp=Mon, 19 Feb 2018 01:09:23 GMT, Server-Request-ID=aaf1c0af-001a-007a-741e-a9509f000000, HTTP status code=409, Exception=The specified resource already exists.<?xml version=\"1.0\" encoding=\"utf-8\"?><Error><Code>ResourceAlreadyExists</Code><Message>The specified resource already exists.RequestId:aaf1c0af-001a-007a-741e-a9509f000000Time:2018-02-19T01:09:23.7145318Z</Message></Error>.\n",
      "Client-Request-ID=85b8c99c-1511-11e8-a561-40167e77d4b0 Retry policy did not allow for a retry: Server-Timestamp=Mon, 19 Feb 2018 01:09:23 GMT, Server-Request-ID=aaf1c0b2-001a-007a-771e-a9509f000000, HTTP status code=409, Exception=The specified resource already exists.<?xml version=\"1.0\" encoding=\"utf-8\"?><Error><Code>ResourceAlreadyExists</Code><Message>The specified resource already exists.RequestId:aaf1c0b2-001a-007a-771e-a9509f000000Time:2018-02-19T01:09:23.9867136Z</Message></Error>.\n"
     ]
    },
    {
     "name": "stdout",
     "output_type": "stream",
     "text": [
      "Uploading Share\\scripts_downpour\\downpour\\settings.py to scripts_downpour\\downpour...\n"
     ]
    },
    {
     "name": "stderr",
     "output_type": "stream",
     "text": [
      "Client-Request-ID=85f5373e-1511-11e8-910f-40167e77d4b0 Retry policy did not allow for a retry: Server-Timestamp=Mon, 19 Feb 2018 01:09:24 GMT, Server-Request-ID=aaf1c0b6-001a-007a-7b1e-a9509f000000, HTTP status code=409, Exception=The specified resource already exists.<?xml version=\"1.0\" encoding=\"utf-8\"?><Error><Code>ResourceAlreadyExists</Code><Message>The specified resource already exists.RequestId:aaf1c0b6-001a-007a-7b1e-a9509f000000Time:2018-02-19T01:09:24.3829778Z</Message></Error>.\n",
      "Client-Request-ID=8602a4f0-1511-11e8-a817-40167e77d4b0 Retry policy did not allow for a retry: Server-Timestamp=Mon, 19 Feb 2018 01:09:24 GMT, Server-Request-ID=aaf1c0b7-001a-007a-7c1e-a9509f000000, HTTP status code=409, Exception=The specified resource already exists.<?xml version=\"1.0\" encoding=\"utf-8\"?><Error><Code>ResourceAlreadyExists</Code><Message>The specified resource already exists.RequestId:aaf1c0b7-001a-007a-7c1e-a9509f000000Time:2018-02-19T01:09:24.4710361Z</Message></Error>.\n"
     ]
    },
    {
     "name": "stdout",
     "output_type": "stream",
     "text": [
      "Uploading Share\\scripts_downpour\\downpour\\urls.py to scripts_downpour\\downpour...\n"
     ]
    },
    {
     "name": "stderr",
     "output_type": "stream",
     "text": [
      "Client-Request-ID=862bd868-1511-11e8-bb1f-40167e77d4b0 Retry policy did not allow for a retry: Server-Timestamp=Mon, 19 Feb 2018 01:09:24 GMT, Server-Request-ID=aaf1c0ba-001a-007a-7f1e-a9509f000000, HTTP status code=409, Exception=The specified resource already exists.<?xml version=\"1.0\" encoding=\"utf-8\"?><Error><Code>ResourceAlreadyExists</Code><Message>The specified resource already exists.RequestId:aaf1c0ba-001a-007a-7f1e-a9509f000000Time:2018-02-19T01:09:24.7402165Z</Message></Error>.\n",
      "Client-Request-ID=86391f0c-1511-11e8-b0db-40167e77d4b0 Retry policy did not allow for a retry: Server-Timestamp=Mon, 19 Feb 2018 01:09:24 GMT, Server-Request-ID=aaf1c0bb-001a-007a-801e-a9509f000000, HTTP status code=409, Exception=The specified resource already exists.<?xml version=\"1.0\" encoding=\"utf-8\"?><Error><Code>ResourceAlreadyExists</Code><Message>The specified resource already exists.RequestId:aaf1c0bb-001a-007a-801e-a9509f000000Time:2018-02-19T01:09:24.8292764Z</Message></Error>.\n"
     ]
    },
    {
     "name": "stdout",
     "output_type": "stream",
     "text": [
      "Uploading Share\\scripts_downpour\\downpour\\wsgi.py to scripts_downpour\\downpour...\n"
     ]
    },
    {
     "name": "stderr",
     "output_type": "stream",
     "text": [
      "Client-Request-ID=86622b76-1511-11e8-982b-40167e77d4b0 Retry policy did not allow for a retry: Server-Timestamp=Mon, 19 Feb 2018 01:09:24 GMT, Server-Request-ID=aaf1c0c1-001a-007a-031e-a9509f000000, HTTP status code=409, Exception=The specified resource already exists.<?xml version=\"1.0\" encoding=\"utf-8\"?><Error><Code>ResourceAlreadyExists</Code><Message>The specified resource already exists.RequestId:aaf1c0c1-001a-007a-031e-a9509f000000Time:2018-02-19T01:09:25.0974565Z</Message></Error>.\n",
      "Client-Request-ID=866f9928-1511-11e8-8083-40167e77d4b0 Retry policy did not allow for a retry: Server-Timestamp=Mon, 19 Feb 2018 01:09:24 GMT, Server-Request-ID=aaf1c0c2-001a-007a-041e-a9509f000000, HTTP status code=409, Exception=The specified resource already exists.<?xml version=\"1.0\" encoding=\"utf-8\"?><Error><Code>ResourceAlreadyExists</Code><Message>The specified resource already exists.RequestId:aaf1c0c2-001a-007a-041e-a9509f000000Time:2018-02-19T01:09:25.1865168Z</Message></Error>.\n"
     ]
    },
    {
     "name": "stdout",
     "output_type": "stream",
     "text": [
      "Uploading Share\\scripts_downpour\\downpour\\__init__.py to scripts_downpour\\downpour...\n"
     ]
    },
    {
     "name": "stderr",
     "output_type": "stream",
     "text": [
      "Client-Request-ID=868ae9be-1511-11e8-992b-40167e77d4b0 Retry policy did not allow for a retry: Server-Timestamp=Mon, 19 Feb 2018 01:09:25 GMT, Server-Request-ID=aaf1c0c4-001a-007a-061e-a9509f000000, HTTP status code=409, Exception=The specified resource already exists.<?xml version=\"1.0\" encoding=\"utf-8\"?><Error><Code>ResourceAlreadyExists</Code><Message>The specified resource already exists.RequestId:aaf1c0c4-001a-007a-061e-a9509f000000Time:2018-02-19T01:09:25.3646367Z</Message></Error>.\n",
      "Client-Request-ID=86985770-1511-11e8-a15a-40167e77d4b0 Retry policy did not allow for a retry: Server-Timestamp=Mon, 19 Feb 2018 01:09:25 GMT, Server-Request-ID=aaf1c0c5-001a-007a-071e-a9509f000000, HTTP status code=409, Exception=The specified resource already exists.<?xml version=\"1.0\" encoding=\"utf-8\"?><Error><Code>ResourceAlreadyExists</Code><Message>The specified resource already exists.RequestId:aaf1c0c5-001a-007a-071e-a9509f000000Time:2018-02-19T01:09:25.4526960Z</Message></Error>.\n"
     ]
    },
    {
     "name": "stdout",
     "output_type": "stream",
     "text": [
      "Uploading Share\\scripts_downpour\\downpour\\__pycache__\\settings.cpython-36.pyc to scripts_downpour\\downpour\\__pycache__...\n"
     ]
    },
    {
     "name": "stderr",
     "output_type": "stream",
     "text": [
      "Client-Request-ID=86cfe300-1511-11e8-a450-40167e77d4b0 Retry policy did not allow for a retry: Server-Timestamp=Mon, 19 Feb 2018 01:09:25 GMT, Server-Request-ID=aaf1c0c9-001a-007a-0b1e-a9509f000000, HTTP status code=409, Exception=The specified resource already exists.<?xml version=\"1.0\" encoding=\"utf-8\"?><Error><Code>ResourceAlreadyExists</Code><Message>The specified resource already exists.RequestId:aaf1c0c9-001a-007a-0b1e-a9509f000000Time:2018-02-19T01:09:25.8149398Z</Message></Error>.\n",
      "Client-Request-ID=86dd0292-1511-11e8-b194-40167e77d4b0 Retry policy did not allow for a retry: Server-Timestamp=Mon, 19 Feb 2018 01:09:25 GMT, Server-Request-ID=aaf1c0ca-001a-007a-0c1e-a9509f000000, HTTP status code=409, Exception=The specified resource already exists.<?xml version=\"1.0\" encoding=\"utf-8\"?><Error><Code>ResourceAlreadyExists</Code><Message>The specified resource already exists.RequestId:aaf1c0ca-001a-007a-0c1e-a9509f000000Time:2018-02-19T01:09:25.9029991Z</Message></Error>.\n"
     ]
    },
    {
     "name": "stdout",
     "output_type": "stream",
     "text": [
      "Uploading Share\\scripts_downpour\\downpour\\__pycache__\\urls.cpython-36.pyc to scripts_downpour\\downpour\\__pycache__...\n"
     ]
    },
    {
     "name": "stderr",
     "output_type": "stream",
     "text": [
      "Client-Request-ID=86ea9754-1511-11e8-b671-40167e77d4b0 Retry policy did not allow for a retry: Server-Timestamp=Mon, 19 Feb 2018 01:09:25 GMT, Server-Request-ID=aaf1c0cb-001a-007a-0d1e-a9509f000000, HTTP status code=409, Exception=The specified resource already exists.<?xml version=\"1.0\" encoding=\"utf-8\"?><Error><Code>ResourceAlreadyExists</Code><Message>The specified resource already exists.RequestId:aaf1c0cb-001a-007a-0d1e-a9509f000000Time:2018-02-19T01:09:25.9930597Z</Message></Error>.\n",
      "Client-Request-ID=87144000-1511-11e8-8b98-40167e77d4b0 Retry policy did not allow for a retry: Server-Timestamp=Mon, 19 Feb 2018 01:09:26 GMT, Server-Request-ID=aaf1c0ce-001a-007a-101e-a9509f000000, HTTP status code=409, Exception=The specified resource already exists.<?xml version=\"1.0\" encoding=\"utf-8\"?><Error><Code>ResourceAlreadyExists</Code><Message>The specified resource already exists.RequestId:aaf1c0ce-001a-007a-101e-a9509f000000Time:2018-02-19T01:09:26.2642418Z</Message></Error>.\n",
      "Client-Request-ID=8721adb4-1511-11e8-8eaf-40167e77d4b0 Retry policy did not allow for a retry: Server-Timestamp=Mon, 19 Feb 2018 01:09:26 GMT, Server-Request-ID=aaf1c0cf-001a-007a-111e-a9509f000000, HTTP status code=409, Exception=The specified resource already exists.<?xml version=\"1.0\" encoding=\"utf-8\"?><Error><Code>ResourceAlreadyExists</Code><Message>The specified resource already exists.RequestId:aaf1c0cf-001a-007a-111e-a9509f000000Time:2018-02-19T01:09:26.3523015Z</Message></Error>.\n"
     ]
    },
    {
     "name": "stdout",
     "output_type": "stream",
     "text": [
      "Uploading Share\\scripts_downpour\\downpour\\__pycache__\\wsgi.cpython-36.pyc to scripts_downpour\\downpour\\__pycache__...\n"
     ]
    },
    {
     "name": "stderr",
     "output_type": "stream",
     "text": [
      "Client-Request-ID=872f1b66-1511-11e8-97c5-40167e77d4b0 Retry policy did not allow for a retry: Server-Timestamp=Mon, 19 Feb 2018 01:09:26 GMT, Server-Request-ID=aaf1c0d0-001a-007a-121e-a9509f000000, HTTP status code=409, Exception=The specified resource already exists.<?xml version=\"1.0\" encoding=\"utf-8\"?><Error><Code>ResourceAlreadyExists</Code><Message>The specified resource already exists.RequestId:aaf1c0d0-001a-007a-121e-a9509f000000Time:2018-02-19T01:09:26.4423617Z</Message></Error>.\n",
      "Client-Request-ID=8758c412-1511-11e8-939c-40167e77d4b0 Retry policy did not allow for a retry: Server-Timestamp=Mon, 19 Feb 2018 01:09:26 GMT, Server-Request-ID=aaf1c0d3-001a-007a-151e-a9509f000000, HTTP status code=409, Exception=The specified resource already exists.<?xml version=\"1.0\" encoding=\"utf-8\"?><Error><Code>ResourceAlreadyExists</Code><Message>The specified resource already exists.RequestId:aaf1c0d3-001a-007a-151e-a9509f000000Time:2018-02-19T01:09:26.7145453Z</Message></Error>.\n",
      "Client-Request-ID=87667fe6-1511-11e8-a11c-40167e77d4b0 Retry policy did not allow for a retry: Server-Timestamp=Mon, 19 Feb 2018 01:09:26 GMT, Server-Request-ID=aaf1c0d4-001a-007a-161e-a9509f000000, HTTP status code=409, Exception=The specified resource already exists.<?xml version=\"1.0\" encoding=\"utf-8\"?><Error><Code>ResourceAlreadyExists</Code><Message>The specified resource already exists.RequestId:aaf1c0d4-001a-007a-161e-a9509f000000Time:2018-02-19T01:09:26.8046059Z</Message></Error>.\n"
     ]
    },
    {
     "name": "stdout",
     "output_type": "stream",
     "text": [
      "Uploading Share\\scripts_downpour\\downpour\\__pycache__\\__init__.cpython-36.pyc to scripts_downpour\\downpour\\__pycache__...\n"
     ]
    },
    {
     "name": "stderr",
     "output_type": "stream",
     "text": [
      "Client-Request-ID=877414a8-1511-11e8-8126-40167e77d4b0 Retry policy did not allow for a retry: Server-Timestamp=Mon, 19 Feb 2018 01:09:26 GMT, Server-Request-ID=aaf1c0d5-001a-007a-171e-a9509f000000, HTTP status code=409, Exception=The specified resource already exists.<?xml version=\"1.0\" encoding=\"utf-8\"?><Error><Code>ResourceAlreadyExists</Code><Message>The specified resource already exists.RequestId:aaf1c0d5-001a-007a-171e-a9509f000000Time:2018-02-19T01:09:26.8936659Z</Message></Error>.\n"
     ]
    },
    {
     "name": "stdout",
     "output_type": "stream",
     "text": [
      "Uploading Share\\tools\\7za.dll to tools...\n"
     ]
    },
    {
     "name": "stderr",
     "output_type": "stream",
     "text": [
      "Client-Request-ID=883878f8-1511-11e8-a8c2-40167e77d4b0 Retry policy did not allow for a retry: Server-Timestamp=Mon, 19 Feb 2018 01:09:27 GMT, Server-Request-ID=aaf1c0dc-001a-007a-1d1e-a9509f000000, HTTP status code=409, Exception=The specified resource already exists.<?xml version=\"1.0\" encoding=\"utf-8\"?><Error><Code>ResourceAlreadyExists</Code><Message>The specified resource already exists.RequestId:aaf1c0dc-001a-007a-1d1e-a9509f000000Time:2018-02-19T01:09:28.1785307Z</Message></Error>.\n"
     ]
    },
    {
     "name": "stdout",
     "output_type": "stream",
     "text": [
      "Uploading Share\\tools\\7za.exe to tools...\n"
     ]
    },
    {
     "name": "stderr",
     "output_type": "stream",
     "text": [
      "Client-Request-ID=89937a2e-1511-11e8-8aef-40167e77d4b0 Retry policy did not allow for a retry: Server-Timestamp=Mon, 19 Feb 2018 01:09:30 GMT, Server-Request-ID=aaf1c0e2-001a-007a-211e-a9509f000000, HTTP status code=409, Exception=The specified resource already exists.<?xml version=\"1.0\" encoding=\"utf-8\"?><Error><Code>ResourceAlreadyExists</Code><Message>The specified resource already exists.RequestId:aaf1c0e2-001a-007a-211e-a9509f000000Time:2018-02-19T01:09:30.4540623Z</Message></Error>.\n"
     ]
    },
    {
     "name": "stdout",
     "output_type": "stream",
     "text": [
      "Uploading Share\\tools\\7zxa.dll to tools...\n"
     ]
    },
    {
     "name": "stderr",
     "output_type": "stream",
     "text": [
      "Client-Request-ID=89fd12f8-1511-11e8-9f0a-40167e77d4b0 Retry policy did not allow for a retry: Server-Timestamp=Mon, 19 Feb 2018 01:09:30 GMT, Server-Request-ID=aaf1c0e6-001a-007a-251e-a9509f000000, HTTP status code=409, Exception=The specified resource already exists.<?xml version=\"1.0\" encoding=\"utf-8\"?><Error><Code>ResourceAlreadyExists</Code><Message>The specified resource already exists.RequestId:aaf1c0e6-001a-007a-251e-a9509f000000Time:2018-02-19T01:09:31.1455273Z</Message></Error>.\n"
     ]
    },
    {
     "name": "stdout",
     "output_type": "stream",
     "text": [
      "Uploading Share\\tools\\history.txt to tools...\n"
     ]
    },
    {
     "name": "stderr",
     "output_type": "stream",
     "text": [
      "Client-Request-ID=8a266d86-1511-11e8-854e-40167e77d4b0 Retry policy did not allow for a retry: Server-Timestamp=Mon, 19 Feb 2018 01:09:31 GMT, Server-Request-ID=aaf1c0e9-001a-007a-281e-a9509f000000, HTTP status code=409, Exception=The specified resource already exists.<?xml version=\"1.0\" encoding=\"utf-8\"?><Error><Code>ResourceAlreadyExists</Code><Message>The specified resource already exists.RequestId:aaf1c0e9-001a-007a-281e-a9509f000000Time:2018-02-19T01:09:31.4147085Z</Message></Error>.\n"
     ]
    },
    {
     "name": "stdout",
     "output_type": "stream",
     "text": [
      "Uploading Share\\tools\\License.txt to tools...\n"
     ]
    },
    {
     "name": "stderr",
     "output_type": "stream",
     "text": [
      "Client-Request-ID=8a4f79ee-1511-11e8-9d2f-40167e77d4b0 Retry policy did not allow for a retry: Server-Timestamp=Mon, 19 Feb 2018 01:09:31 GMT, Server-Request-ID=aaf1c0ec-001a-007a-2b1e-a9509f000000, HTTP status code=409, Exception=The specified resource already exists.<?xml version=\"1.0\" encoding=\"utf-8\"?><Error><Code>ResourceAlreadyExists</Code><Message>The specified resource already exists.RequestId:aaf1c0ec-001a-007a-2b1e-a9509f000000Time:2018-02-19T01:09:31.6858914Z</Message></Error>.\n"
     ]
    },
    {
     "name": "stdout",
     "output_type": "stream",
     "text": [
      "Uploading Share\\tools\\MicrosoftAzureStorageTools.msi to tools...\n"
     ]
    },
    {
     "name": "stderr",
     "output_type": "stream",
     "text": [
      "Client-Request-ID=8f40f5c6-1511-11e8-b8be-40167e77d4b0 Retry policy did not allow for a retry: Server-Timestamp=Mon, 19 Feb 2018 01:09:39 GMT, Server-Request-ID=aaf1c104-001a-007a-311e-a9509f000000, HTTP status code=409, Exception=The specified resource already exists.<?xml version=\"1.0\" encoding=\"utf-8\"?><Error><Code>ResourceAlreadyExists</Code><Message>The specified resource already exists.RequestId:aaf1c104-001a-007a-311e-a9509f000000Time:2018-02-19T01:09:39.9794732Z</Message></Error>.\n"
     ]
    },
    {
     "name": "stdout",
     "output_type": "stream",
     "text": [
      "Uploading Share\\tools\\readme.txt to tools...\n"
     ]
    },
    {
     "name": "stderr",
     "output_type": "stream",
     "text": [
      "Client-Request-ID=8f6a9e74-1511-11e8-9b24-40167e77d4b0 Retry policy did not allow for a retry: Server-Timestamp=Mon, 19 Feb 2018 01:09:40 GMT, Server-Request-ID=aaf1c109-001a-007a-341e-a9509f000000, HTTP status code=409, Exception=The specified resource already exists.<?xml version=\"1.0\" encoding=\"utf-8\"?><Error><Code>ResourceAlreadyExists</Code><Message>The specified resource already exists.RequestId:aaf1c109-001a-007a-341e-a9509f000000Time:2018-02-19T01:09:40.2516564Z</Message></Error>.\n"
     ]
    },
    {
     "name": "stdout",
     "output_type": "stream",
     "text": [
      "Uploading Share\\tools\\Far\\7-ZipEng.hlf to tools\\Far...\n"
     ]
    },
    {
     "name": "stderr",
     "output_type": "stream",
     "text": [
      "Client-Request-ID=8fa1b4d0-1511-11e8-85f2-40167e77d4b0 Retry policy did not allow for a retry: Server-Timestamp=Mon, 19 Feb 2018 01:09:40 GMT, Server-Request-ID=aaf1c10d-001a-007a-381e-a9509f000000, HTTP status code=409, Exception=The specified resource already exists.<?xml version=\"1.0\" encoding=\"utf-8\"?><Error><Code>ResourceAlreadyExists</Code><Message>The specified resource already exists.RequestId:aaf1c10d-001a-007a-381e-a9509f000000Time:2018-02-19T01:09:40.6118993Z</Message></Error>.\n",
      "Client-Request-ID=8faefb74-1511-11e8-9474-40167e77d4b0 Retry policy did not allow for a retry: Server-Timestamp=Mon, 19 Feb 2018 01:09:40 GMT, Server-Request-ID=aaf1c10e-001a-007a-391e-a9509f000000, HTTP status code=409, Exception=The specified resource already exists.<?xml version=\"1.0\" encoding=\"utf-8\"?><Error><Code>ResourceAlreadyExists</Code><Message>The specified resource already exists.RequestId:aaf1c10e-001a-007a-391e-a9509f000000Time:2018-02-19T01:09:40.6999582Z</Message></Error>.\n"
     ]
    },
    {
     "name": "stdout",
     "output_type": "stream",
     "text": [
      "Uploading Share\\tools\\Far\\7-ZipEng.lng to tools\\Far...\n"
     ]
    },
    {
     "name": "stderr",
     "output_type": "stream",
     "text": [
      "Client-Request-ID=8fd87d0c-1511-11e8-a64b-40167e77d4b0 Retry policy did not allow for a retry: Server-Timestamp=Mon, 19 Feb 2018 01:09:40 GMT, Server-Request-ID=aaf1c111-001a-007a-3c1e-a9509f000000, HTTP status code=409, Exception=The specified resource already exists.<?xml version=\"1.0\" encoding=\"utf-8\"?><Error><Code>ResourceAlreadyExists</Code><Message>The specified resource already exists.RequestId:aaf1c111-001a-007a-3c1e-a9509f000000Time:2018-02-19T01:09:40.9721418Z</Message></Error>.\n",
      "Client-Request-ID=8fe611d2-1511-11e8-a1a6-40167e77d4b0 Retry policy did not allow for a retry: Server-Timestamp=Mon, 19 Feb 2018 01:09:40 GMT, Server-Request-ID=aaf1c112-001a-007a-3d1e-a9509f000000, HTTP status code=409, Exception=The specified resource already exists.<?xml version=\"1.0\" encoding=\"utf-8\"?><Error><Code>ResourceAlreadyExists</Code><Message>The specified resource already exists.RequestId:aaf1c112-001a-007a-3d1e-a9509f000000Time:2018-02-19T01:09:41.0602015Z</Message></Error>.\n"
     ]
    },
    {
     "name": "stdout",
     "output_type": "stream",
     "text": [
      "Uploading Share\\tools\\Far\\7-ZipFar.dll to tools\\Far...\n"
     ]
    },
    {
     "name": "stderr",
     "output_type": "stream",
     "text": [
      "Client-Request-ID=9079c87a-1511-11e8-aa0c-40167e77d4b0 Retry policy did not allow for a retry: Server-Timestamp=Mon, 19 Feb 2018 01:09:41 GMT, Server-Request-ID=aaf1c115-001a-007a-401e-a9509f000000, HTTP status code=409, Exception=The specified resource already exists.<?xml version=\"1.0\" encoding=\"utf-8\"?><Error><Code>ResourceAlreadyExists</Code><Message>The specified resource already exists.RequestId:aaf1c115-001a-007a-401e-a9509f000000Time:2018-02-19T01:09:42.0288530Z</Message></Error>.\n",
      "Client-Request-ID=9087362e-1511-11e8-a4b9-40167e77d4b0 Retry policy did not allow for a retry: Server-Timestamp=Mon, 19 Feb 2018 01:09:41 GMT, Server-Request-ID=aaf1c116-001a-007a-411e-a9509f000000, HTTP status code=409, Exception=The specified resource already exists.<?xml version=\"1.0\" encoding=\"utf-8\"?><Error><Code>ResourceAlreadyExists</Code><Message>The specified resource already exists.RequestId:aaf1c116-001a-007a-411e-a9509f000000Time:2018-02-19T01:09:42.1169123Z</Message></Error>.\n"
     ]
    },
    {
     "name": "stdout",
     "output_type": "stream",
     "text": [
      "Uploading Share\\tools\\Far\\7-ZipFar64.dll to tools\\Far...\n"
     ]
    },
    {
     "name": "stderr",
     "output_type": "stream",
     "text": [
      "Client-Request-ID=9162f364-1511-11e8-9dac-40167e77d4b0 Retry policy did not allow for a retry: Server-Timestamp=Mon, 19 Feb 2018 01:09:43 GMT, Server-Request-ID=aaf1c11b-001a-007a-441e-a9509f000000, HTTP status code=409, Exception=The specified resource already exists.<?xml version=\"1.0\" encoding=\"utf-8\"?><Error><Code>ResourceAlreadyExists</Code><Message>The specified resource already exists.RequestId:aaf1c11b-001a-007a-441e-a9509f000000Time:2018-02-19T01:09:43.5568811Z</Message></Error>.\n",
      "Client-Request-ID=91703a06-1511-11e8-b880-40167e77d4b0 Retry policy did not allow for a retry: Server-Timestamp=Mon, 19 Feb 2018 01:09:43 GMT, Server-Request-ID=aaf1c11d-001a-007a-451e-a9509f000000, HTTP status code=409, Exception=The specified resource already exists.<?xml version=\"1.0\" encoding=\"utf-8\"?><Error><Code>ResourceAlreadyExists</Code><Message>The specified resource already exists.RequestId:aaf1c11d-001a-007a-451e-a9509f000000Time:2018-02-19T01:09:43.6439401Z</Message></Error>.\n"
     ]
    },
    {
     "name": "stdout",
     "output_type": "stream",
     "text": [
      "Uploading Share\\tools\\Far\\7-ZipRus.hlf to tools\\Far...\n"
     ]
    },
    {
     "name": "stderr",
     "output_type": "stream",
     "text": [
      "Client-Request-ID=91999492-1511-11e8-84b2-40167e77d4b0 Retry policy did not allow for a retry: Server-Timestamp=Mon, 19 Feb 2018 01:09:43 GMT, Server-Request-ID=aaf1c120-001a-007a-481e-a9509f000000, HTTP status code=409, Exception=The specified resource already exists.<?xml version=\"1.0\" encoding=\"utf-8\"?><Error><Code>ResourceAlreadyExists</Code><Message>The specified resource already exists.RequestId:aaf1c120-001a-007a-481e-a9509f000000Time:2018-02-19T01:09:43.9151226Z</Message></Error>.\n",
      "Client-Request-ID=91a70242-1511-11e8-bde2-40167e77d4b0 Retry policy did not allow for a retry: Server-Timestamp=Mon, 19 Feb 2018 01:09:43 GMT, Server-Request-ID=aaf1c121-001a-007a-491e-a9509f000000, HTTP status code=409, Exception=The specified resource already exists.<?xml version=\"1.0\" encoding=\"utf-8\"?><Error><Code>ResourceAlreadyExists</Code><Message>The specified resource already exists.RequestId:aaf1c121-001a-007a-491e-a9509f000000Time:2018-02-19T01:09:44.0031819Z</Message></Error>.\n"
     ]
    },
    {
     "name": "stdout",
     "output_type": "stream",
     "text": [
      "Uploading Share\\tools\\Far\\7-ZipRus.lng to tools\\Far...\n"
     ]
    },
    {
     "name": "stderr",
     "output_type": "stream",
     "text": [
      "Client-Request-ID=91d0d200-1511-11e8-8e25-40167e77d4b0 Retry policy did not allow for a retry: Server-Timestamp=Mon, 19 Feb 2018 01:09:44 GMT, Server-Request-ID=aaf1c124-001a-007a-4c1e-a9509f000000, HTTP status code=409, Exception=The specified resource already exists.<?xml version=\"1.0\" encoding=\"utf-8\"?><Error><Code>ResourceAlreadyExists</Code><Message>The specified resource already exists.RequestId:aaf1c124-001a-007a-4c1e-a9509f000000Time:2018-02-19T01:09:44.2763662Z</Message></Error>.\n",
      "Client-Request-ID=91de3fb4-1511-11e8-8ff3-40167e77d4b0 Retry policy did not allow for a retry: Server-Timestamp=Mon, 19 Feb 2018 01:09:44 GMT, Server-Request-ID=aaf1c125-001a-007a-4d1e-a9509f000000, HTTP status code=409, Exception=The specified resource already exists.<?xml version=\"1.0\" encoding=\"utf-8\"?><Error><Code>ResourceAlreadyExists</Code><Message>The specified resource already exists.RequestId:aaf1c125-001a-007a-4d1e-a9509f000000Time:2018-02-19T01:09:44.3654253Z</Message></Error>.\n"
     ]
    },
    {
     "name": "stdout",
     "output_type": "stream",
     "text": [
      "Uploading Share\\tools\\Far\\7zToFar.ini to tools\\Far...\n"
     ]
    },
    {
     "name": "stderr",
     "output_type": "stream",
     "text": [
      "Client-Request-ID=9207c14c-1511-11e8-8e90-40167e77d4b0 Retry policy did not allow for a retry: Server-Timestamp=Mon, 19 Feb 2018 01:09:44 GMT, Server-Request-ID=aaf1c128-001a-007a-501e-a9509f000000, HTTP status code=409, Exception=The specified resource already exists.<?xml version=\"1.0\" encoding=\"utf-8\"?><Error><Code>ResourceAlreadyExists</Code><Message>The specified resource already exists.RequestId:aaf1c128-001a-007a-501e-a9509f000000Time:2018-02-19T01:09:44.6356072Z</Message></Error>.\n",
      "Client-Request-ID=9214e0de-1511-11e8-9a6e-40167e77d4b0 Retry policy did not allow for a retry: Server-Timestamp=Mon, 19 Feb 2018 01:09:44 GMT, Server-Request-ID=aaf1c129-001a-007a-511e-a9509f000000, HTTP status code=409, Exception=The specified resource already exists.<?xml version=\"1.0\" encoding=\"utf-8\"?><Error><Code>ResourceAlreadyExists</Code><Message>The specified resource already exists.RequestId:aaf1c129-001a-007a-511e-a9509f000000Time:2018-02-19T01:09:44.7236669Z</Message></Error>.\n"
     ]
    },
    {
     "name": "stdout",
     "output_type": "stream",
     "text": [
      "Uploading Share\\tools\\Far\\far7z.reg to tools\\Far...\n"
     ]
    },
    {
     "name": "stderr",
     "output_type": "stream",
     "text": [
      "Client-Request-ID=923e145a-1511-11e8-b05c-40167e77d4b0 Retry policy did not allow for a retry: Server-Timestamp=Mon, 19 Feb 2018 01:09:44 GMT, Server-Request-ID=aaf1c12d-001a-007a-541e-a9509f000000, HTTP status code=409, Exception=The specified resource already exists.<?xml version=\"1.0\" encoding=\"utf-8\"?><Error><Code>ResourceAlreadyExists</Code><Message>The specified resource already exists.RequestId:aaf1c12d-001a-007a-541e-a9509f000000Time:2018-02-19T01:09:44.9998527Z</Message></Error>.\n",
      "Client-Request-ID=924c9380-1511-11e8-8764-40167e77d4b0 Retry policy did not allow for a retry: Server-Timestamp=Mon, 19 Feb 2018 01:09:44 GMT, Server-Request-ID=aaf1c12f-001a-007a-551e-a9509f000000, HTTP status code=409, Exception=The specified resource already exists.<?xml version=\"1.0\" encoding=\"utf-8\"?><Error><Code>ResourceAlreadyExists</Code><Message>The specified resource already exists.RequestId:aaf1c12f-001a-007a-551e-a9509f000000Time:2018-02-19T01:09:45.0879120Z</Message></Error>.\n"
     ]
    },
    {
     "name": "stdout",
     "output_type": "stream",
     "text": [
      "Uploading Share\\tools\\Far\\far7z.txt to tools\\Far...\n"
     ]
    },
    {
     "name": "stderr",
     "output_type": "stream",
     "text": [
      "Client-Request-ID=927aa90c-1511-11e8-b636-40167e77d4b0 Retry policy did not allow for a retry: Server-Timestamp=Mon, 19 Feb 2018 01:09:45 GMT, Server-Request-ID=aaf1c133-001a-007a-581e-a9509f000000, HTTP status code=409, Exception=The specified resource already exists.<?xml version=\"1.0\" encoding=\"utf-8\"?><Error><Code>ResourceAlreadyExists</Code><Message>The specified resource already exists.RequestId:aaf1c133-001a-007a-581e-a9509f000000Time:2018-02-19T01:09:45.3881137Z</Message></Error>.\n"
     ]
    },
    {
     "name": "stdout",
     "output_type": "stream",
     "text": [
      "Uploading Share\\tools\\x64\\7za.dll to tools\\x64...\n"
     ]
    },
    {
     "name": "stderr",
     "output_type": "stream",
     "text": [
      "Client-Request-ID=9354917e-1511-11e8-8682-40167e77d4b0 Retry policy did not allow for a retry: Server-Timestamp=Mon, 19 Feb 2018 01:09:46 GMT, Server-Request-ID=aaf1c137-001a-007a-5c1e-a9509f000000, HTTP status code=409, Exception=The specified resource already exists.<?xml version=\"1.0\" encoding=\"utf-8\"?><Error><Code>ResourceAlreadyExists</Code><Message>The specified resource already exists.RequestId:aaf1c137-001a-007a-5c1e-a9509f000000Time:2018-02-19T01:09:46.8180761Z</Message></Error>.\n",
      "Client-Request-ID=9361d81e-1511-11e8-8b7d-40167e77d4b0 Retry policy did not allow for a retry: Server-Timestamp=Mon, 19 Feb 2018 01:09:46 GMT, Server-Request-ID=aaf1c138-001a-007a-5d1e-a9509f000000, HTTP status code=409, Exception=The specified resource already exists.<?xml version=\"1.0\" encoding=\"utf-8\"?><Error><Code>ResourceAlreadyExists</Code><Message>The specified resource already exists.RequestId:aaf1c138-001a-007a-5d1e-a9509f000000Time:2018-02-19T01:09:46.9051347Z</Message></Error>.\n"
     ]
    },
    {
     "name": "stdout",
     "output_type": "stream",
     "text": [
      "Uploading Share\\tools\\x64\\7za.exe to tools\\x64...\n"
     ]
    },
    {
     "name": "stderr",
     "output_type": "stream",
     "text": [
      "Client-Request-ID=9576680c-1511-11e8-947f-40167e77d4b0 Retry policy did not allow for a retry: Server-Timestamp=Mon, 19 Feb 2018 01:09:50 GMT, Server-Request-ID=aaf1c141-001a-007a-621e-a9509f000000, HTTP status code=409, Exception=The specified resource already exists.<?xml version=\"1.0\" encoding=\"utf-8\"?><Error><Code>ResourceAlreadyExists</Code><Message>The specified resource already exists.RequestId:aaf1c141-001a-007a-621e-a9509f000000Time:2018-02-19T01:09:50.3944838Z</Message></Error>.\n",
      "Client-Request-ID=9583aeae-1511-11e8-9547-40167e77d4b0 Retry policy did not allow for a retry: Server-Timestamp=Mon, 19 Feb 2018 01:09:50 GMT, Server-Request-ID=aaf1c142-001a-007a-631e-a9509f000000, HTTP status code=409, Exception=The specified resource already exists.<?xml version=\"1.0\" encoding=\"utf-8\"?><Error><Code>ResourceAlreadyExists</Code><Message>The specified resource already exists.RequestId:aaf1c142-001a-007a-631e-a9509f000000Time:2018-02-19T01:09:50.4815419Z</Message></Error>.\n"
     ]
    },
    {
     "name": "stdout",
     "output_type": "stream",
     "text": [
      "Uploading Share\\tools\\x64\\7zxa.dll to tools\\x64...\n"
     ]
    }
   ],
   "source": [
    "def create_directories(path, file_service):\n",
    "    split_dir = path.split('\\\\')\n",
    "    for i in range(1, len(split_dir)+1, 1):\n",
    "        combined_dir = '\\\\'.join(split_dir[:i])\n",
    "        file_service.create_directory(NOTEBOOK_CONFIG['file_share_name'], combined_dir, fail_on_exist=False)\n",
    "\n",
    "for root, directories, files in os.walk('Share'):\n",
    "    for file in files:\n",
    "        regex_pattern = '{0}[\\\\\\\\]?'.format('Share').replace('\\\\', '\\\\\\\\')\n",
    "        upload_directory = re.sub(regex_pattern, '', root)\n",
    "        print('Uploading {0} to {1}...'.format(os.path.join(root, file), upload_directory))\n",
    "        if (len(upload_directory) == 0):\n",
    "            upload_directory = None\n",
    "        if (upload_directory != None):\n",
    "            create_directories(upload_directory, file_service)\n",
    "        file_service.create_file_from_path(          \n",
    "            NOTEBOOK_CONFIG['file_share_name'], \n",
    "            upload_directory,                   \n",
    "            file,                               \n",
    "            os.path.join(root, file)            \n",
    "            )\n",
    "        \n",
    "        "
   ]
  },
  {
   "cell_type": "markdown",
   "metadata": {},
   "source": [
    "When provisioning the machines for the Azure Batch pool, it is necessary to pull some of the setup scripts from blob. So in this step, we upload these prerequisite files to the blob storage. "
   ]
  },
  {
   "cell_type": "code",
   "execution_count": 12,
   "metadata": {
    "collapsed": true
   },
   "outputs": [],
   "source": [
    "block_blob_service = BlockBlobService(account_name = NOTEBOOK_CONFIG['storage_account_name'], account_key = NOTEBOOK_CONFIG['storage_account_key'])\n",
    "block_blob_service.create_container('prereq', public_access = PublicAccess.Container)\n",
    "\n",
    "for root, directories, files in os.walk('Blob'):\n",
    "    for file in files:\n",
    "        block_blob_service.create_blob_from_path( \n",
    "            'prereq',                             \n",
    "            file,                                 \n",
    "            os.path.join(root, file)              \n",
    "            )"
   ]
  },
  {
   "cell_type": "markdown",
   "metadata": {},
   "source": [
    "We have a custom image that has the proper drivers installed to run AirSim. To create this image, we will run a powershell script that will copy the image from our storage account to your storage account. Ensure that you have the latest version of the [AzCopy utility](https://docs.microsoft.com/en-us/azure/storage/common/storage-use-azcopy) installed and in your path (i.e. running 'azcopy' at the command line should yield the help page). In addition, ensure that you have the latest version of [Azure Powershell](https://docs.microsoft.com/en-us/powershell/azure/install-azurerm-ps?view=azurermps-5.3.0) installed. This command can take up to an hour to run."
   ]
  },
  {
   "cell_type": "code",
   "execution_count": 16,
   "metadata": {},
   "outputs": [
    {
     "data": {
      "text/plain": [
       "0"
      ]
     },
     "execution_count": 16,
     "metadata": {},
     "output_type": "execute_result"
    }
   ],
   "source": [
    "os.system('powershell.exe \".\\\\CreateImage.ps1 -subscriptionId {0} -storageAccountName {1} -storageAccountKey {2} -resourceGroupName {3}'\\\n",
    "          .format(NOTEBOOK_CONFIG['subscription_id'], NOTEBOOK_CONFIG['storage_account_name'], NOTEBOOK_CONFIG['storage_account_key'], NOTEBOOK_CONFIG['resource_group_name']))"
   ]
  },
  {
   "cell_type": "markdown",
   "metadata": {},
   "source": [
    "Finally, we create the pool of machines that will run our experiment. The important aspects of the machine configuration are:\n",
    "\n",
    "* **image_reference**: We specify the data science VM to ensure that we have the correct drivers installed that will allow us to utilize the GPU.\n",
    "* **vm_size**: The AirSim executable will only run on NV machines, so we choose the NV6 VMs.\n",
    "* **target_dedicated_nodes**: The number of nodes to provision for the cluster. Note that 1 node will become your trainer, and the rest will become the agent. Ensure that there are enough cores available in your batch account to provision the number of VMs you are requesting - for example, the NV6 machines utilize 4 cores for each machine provisioned.\n",
    "* **enable_inter_node_communication**: This parameter will allow the nodes to communicate with each other. Enabling this parameter limits the number of nodes to 40.\n",
    "* **user_accounts**: We define an admin user to run the batch jobs. This user will also be used to log into the VMs and visualize the progress\n",
    "* **start_task**: This is the task that will be run when the machines are being provisioned. In this phase, we download the prereq scripts and run them in the python environment. This will install the necessary python libraries and configure the machine to use AirSim."
   ]
  },
  {
   "cell_type": "code",
   "execution_count": 2,
   "metadata": {},
   "outputs": [
    {
     "name": "stdout",
     "output_type": "stream",
     "text": [
      "/subscriptions/ba86c6da-f243-4ab1-8158-ae8db3969df1/resourceGroups/mspryn_rg/providers/Microsoft.Compute/images/AirsimImage3\n",
      "query_parameters\n",
      "{'api-version': '2017-09-01.6.0'}\n",
      "Headers:\n",
      "{'Content-Type': 'application/json; odata=minimalmetadata; charset=utf-8', 'client-request-id': 'ce46bc1c-156b-11e8-a312-40167e77d4b0', 'accept-language': 'en-US'}\n",
      "Body content: \n",
      "{'id': 'mspryn_pool_2', 'vmSize': 'STANDARD_NV6', 'virtualMachineConfiguration': {'imageReference': {'virtualMachineImageId': '/subscriptions/ba86c6da-f243-4ab1-8158-ae8db3969df1/resourceGroups/mspryn_rg/providers/Microsoft.Compute/images/AirsimImage3'}, 'nodeAgentSKUId': 'batch.node.windows amd64'}, 'targetDedicatedNodes': 1, 'enableInterNodeCommunication': True, 'startTask': {'commandLine': 'C:\\\\ProgramData\\\\Anaconda3\\\\Scripts\\\\activate.bat py36 && python C:\\\\prereq\\\\setup_machine.py', 'resourceFiles': [{'blobSource': 'https://msprynrrnotebook2.blob.core.windows.net/prereq/setup_machine.py', 'filePath': 'C:\\\\prereq\\\\setup_machine.py'}, {'blobSource': 'https://msprynrrnotebook2.blob.core.windows.net/prereq/mount.bat', 'filePath': 'C:\\\\prereq\\\\mount.bat'}], 'userIdentity': {'username': 'RoadRunner'}, 'waitForSuccess': True}, 'userAccounts': [{'name': 'RoadRunner', 'password': 'R0@dRUnn3r', 'elevationLevel': 'admin'}]}\n",
      "Operation config: \n",
      "\n",
      "Status code: \n",
      "403\n"
     ]
    },
    {
     "ename": "BatchErrorException",
     "evalue": "{'lang': 'en-US', 'value': 'Server failed to authenticate the request. Make sure the value of Authorization header is formed correctly including the signature.\\nRequestId:5fb55d53-c0e4-43fe-b140-715dd6f0d37a\\nTime:2018-02-19T11:55:40.1139214Z'}",
     "output_type": "error",
     "traceback": [
      "\u001b[0;31m---------------------------------------------------------------------------\u001b[0m",
      "\u001b[0;31mBatchErrorException\u001b[0m                       Traceback (most recent call last)",
      "\u001b[0;32m<ipython-input-2-2bae6075084b>\u001b[0m in \u001b[0;36m<module>\u001b[0;34m()\u001b[0m\n\u001b[1;32m     38\u001b[0m )\n\u001b[1;32m     39\u001b[0m \u001b[1;33m\u001b[0m\u001b[0m\n\u001b[0;32m---> 40\u001b[0;31m \u001b[0mbatch_client\u001b[0m\u001b[1;33m.\u001b[0m\u001b[0mpool\u001b[0m\u001b[1;33m.\u001b[0m\u001b[0madd\u001b[0m\u001b[1;33m(\u001b[0m\u001b[0mnew_pool\u001b[0m\u001b[1;33m)\u001b[0m\u001b[1;33m\u001b[0m\u001b[0m\n\u001b[0m",
      "\u001b[0;32mC:\\ProgramData\\Anaconda3\\lib\\site-packages\\azure\\batch\\operations\\pool_operations.py\u001b[0m in \u001b[0;36madd\u001b[0;34m(self, pool, pool_add_options, custom_headers, raw, **operation_config)\u001b[0m\n\u001b[1;32m    328\u001b[0m         \u001b[0mprint\u001b[0m\u001b[1;33m(\u001b[0m\u001b[0mresponse\u001b[0m\u001b[1;33m.\u001b[0m\u001b[0mstatus_code\u001b[0m\u001b[1;33m)\u001b[0m\u001b[1;33m\u001b[0m\u001b[0m\n\u001b[1;32m    329\u001b[0m         \u001b[1;32mif\u001b[0m \u001b[0mresponse\u001b[0m\u001b[1;33m.\u001b[0m\u001b[0mstatus_code\u001b[0m \u001b[1;32mnot\u001b[0m \u001b[1;32min\u001b[0m \u001b[1;33m[\u001b[0m\u001b[1;36m201\u001b[0m\u001b[1;33m]\u001b[0m\u001b[1;33m:\u001b[0m\u001b[1;33m\u001b[0m\u001b[0m\n\u001b[0;32m--> 330\u001b[0;31m             \u001b[1;32mraise\u001b[0m \u001b[0mmodels\u001b[0m\u001b[1;33m.\u001b[0m\u001b[0mBatchErrorException\u001b[0m\u001b[1;33m(\u001b[0m\u001b[0mself\u001b[0m\u001b[1;33m.\u001b[0m\u001b[0m_deserialize\u001b[0m\u001b[1;33m,\u001b[0m \u001b[0mresponse\u001b[0m\u001b[1;33m)\u001b[0m\u001b[1;33m\u001b[0m\u001b[0m\n\u001b[0m\u001b[1;32m    331\u001b[0m \u001b[1;33m\u001b[0m\u001b[0m\n\u001b[1;32m    332\u001b[0m         \u001b[1;32mif\u001b[0m \u001b[0mraw\u001b[0m\u001b[1;33m:\u001b[0m\u001b[1;33m\u001b[0m\u001b[0m\n",
      "\u001b[0;31mBatchErrorException\u001b[0m: {'lang': 'en-US', 'value': 'Server failed to authenticate the request. Make sure the value of Authorization header is formed correctly including the signature.\\nRequestId:5fb55d53-c0e4-43fe-b140-715dd6f0d37a\\nTime:2018-02-19T11:55:40.1139214Z'}"
     ]
    }
   ],
   "source": [
    "batch_credentials = batchauth.SharedKeyCredentials(NOTEBOOK_CONFIG['batch_account_name'], NOTEBOOK_CONFIG['batch_account_key'])\n",
    "batch_client = batch.BatchServiceClient(batch_credentials, base_url=NOTEBOOK_CONFIG['batch_account_url'])\n",
    "\n",
    "#image_ref_to_use = batchmodels.ImageReference(publisher='microsoft-ads', offer='standard-data-science-vm', sku='standard-data-science-vm')\n",
    "#node_agent_sku_to_use = 'batch.node.windows amd64'\n",
    "\n",
    "image_path = '/subscriptions/{0}/resourceGroups/{1}/providers/Microsoft.Compute/images/{2}'\\\n",
    "                    .format(NOTEBOOK_CONFIG['subscription_id'], NOTEBOOK_CONFIG['resource_group_name'], 'AirsimImage3')\n",
    "    \n",
    "print(image_path)\n",
    "\n",
    "image_ref_to_use = batchmodels.ImageReference(virtual_machine_image_id=image_path)\n",
    "node_agent_sku_to_use = 'batch.node.windows amd64'\n",
    "\n",
    "new_pool = batchmodels.PoolAddParameter(\n",
    "    id=NOTEBOOK_CONFIG['batch_pool_name'],\n",
    "    virtual_machine_configuration=batchmodels.VirtualMachineConfiguration(\n",
    "        image_reference=image_ref_to_use,\n",
    "        node_agent_sku_id=node_agent_sku_to_use),\n",
    "    vm_size='STANDARD_NV6',\n",
    "    target_dedicated_nodes=NOTEBOOK_CONFIG['batch_pool_size'],\n",
    "    enable_inter_node_communication=True,\n",
    "    user_accounts = [batchmodels.UserAccount(name=NOTEBOOK_CONFIG['batch_job_user_name'], password=NOTEBOOK_CONFIG['batch_job_user_password'], elevation_level='admin')],\n",
    "    start_task=batchmodels.StartTask(\n",
    "        command_line='C:\\\\ProgramData\\\\Anaconda3\\\\Scripts\\\\activate.bat py36 && python C:\\\\prereq\\\\setup_machine.py',\n",
    "        wait_for_success=True,\n",
    "        user_identity= batchmodels.UserIdentity(user_name=NOTEBOOK_CONFIG['batch_job_user_name']),\n",
    "         resource_files= [\n",
    "             batchmodels.ResourceFile(\n",
    "                 blob_source='https://{0}.blob.core.windows.net/prereq/setup_machine.py'.format(NOTEBOOK_CONFIG['storage_account_name']),\n",
    "                 file_path='C:\\\\prereq\\\\setup_machine.py'\n",
    "             ),\n",
    "              batchmodels.ResourceFile(\n",
    "                 blob_source='https://{0}.blob.core.windows.net/prereq/mount.bat'.format(NOTEBOOK_CONFIG['storage_account_name']),\n",
    "                 file_path='C:\\\\prereq\\\\mount.bat'\n",
    "             )\n",
    "         ]\n",
    "    )\n",
    ")\n",
    "\n",
    "batch_client.pool.add(new_pool)"
   ]
  },
  {
   "cell_type": "markdown",
   "metadata": {},
   "source": [
    "Alternatively, here's how to do it with the CLI. Note that there will be a code that you need to login output to your terminal window."
   ]
  },
  {
   "cell_type": "code",
   "execution_count": 3,
   "metadata": {},
   "outputs": [
    {
     "name": "stdout",
     "output_type": "stream",
     "text": [
      "Executing command. Check the terminal output for authentication instructions.\n"
     ]
    },
    {
     "data": {
      "text/plain": [
       "0"
      ]
     },
     "execution_count": 3,
     "metadata": {},
     "output_type": "execute_result"
    }
   ],
   "source": [
    "with open('Template\\\\pool.json.template', 'r') as f:\n",
    "    pool_config = f.read()\n",
    "    \n",
    "pool_config = pool_config\\\n",
    "                .replace('{batch_pool_name}', NOTEBOOK_CONFIG['batch_pool_name'])\\\n",
    "                .replace('{subscription_id}', NOTEBOOK_CONFIG['subscription_id'])\\\n",
    "                .replace('{resource_group_name}', NOTEBOOK_CONFIG['resource_group_name'])\\\n",
    "                .replace('{storage_account_name}', NOTEBOOK_CONFIG['storage_account_name'])\\\n",
    "                .replace('{batch_job_user_name}', NOTEBOOK_CONFIG['batch_job_user_name'])\\\n",
    "                .replace('{batch_job_user_password}', NOTEBOOK_CONFIG['batch_job_user_password'])\\\n",
    "                .replace('{batch_pool_size}', str(NOTEBOOK_CONFIG['batch_pool_size']))\n",
    "\n",
    "with open('pool.json', 'w') as f:\n",
    "    f.write(pool_config)\n",
    "    \n",
    "create_cmd = 'powershell.exe \".\\ProvisionCluster.ps1 -subscriptionId {0} -resourceGroupName {1} -batchAccountName {2}\"'\\\n",
    "    .format(NOTEBOOK_CONFIG['subscription_id'], NOTEBOOK_CONFIG['resource_group_name'], NOTEBOOK_CONFIG['batch_account_name'])\n",
    "    \n",
    "print('Executing command. Check the terminal output for authentication instructions.')\n",
    "\n",
    "os.system(create_cmd)"
   ]
  },
  {
   "cell_type": "markdown",
   "metadata": {},
   "source": [
    "Once this task finishes, you should see the pool created in your batch account, and you are ready to move on to **Step 1 - Explore the Algorithm** "
   ]
  }
 ],
 "metadata": {
  "kernelspec": {
   "display_name": "Python 3",
   "language": "python",
   "name": "python3"
  },
  "language_info": {
   "codemirror_mode": {
    "name": "ipython",
    "version": 3
   },
   "file_extension": ".py",
   "mimetype": "text/x-python",
   "name": "python",
   "nbconvert_exporter": "python",
   "pygments_lexer": "ipython3",
   "version": "3.6.4"
  }
 },
 "nbformat": 4,
 "nbformat_minor": 2
}
